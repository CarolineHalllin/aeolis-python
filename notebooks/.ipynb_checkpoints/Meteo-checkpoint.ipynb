{
 "cells": [
  {
   "cell_type": "code",
   "execution_count": 2,
   "metadata": {},
   "outputs": [],
   "source": [
    "import csv\n",
    "import knmi\n",
    "import numpy as np\n",
    "\n",
    "# retrieve data from station 330 (Hoek van Holland)\n",
    "df = knmi.get_day_data_dataframe([330], start='20170101', end='20171231', \n",
    "                                 variables=['TG','RH','UG','Q','PG']) #(TG = daily mean temp, RH = Daily precipitation amount (in 0.1 mm) (-1 for <0.05 mm), 'UG': 'Daily mean relative atmospheric humidity (in percents)', 'Q': 'Global radiation (in J/cm2)','PG': 'Daily mean sea level pressure (in 0.1 hPa) calculated from 24 hourly values')\n",
    "\n",
    "# drop station column\n",
    "df = df.drop('STN', axis=1)\n",
    "\n",
    "# convert units from KNMI to SI\n",
    "df = df.apply(lambda x: x * np.asarray([1e-1, 1e-1/24, 1e4, 1, 1e-2]), axis=1)\n",
    "\n",
    "# convert index from datatime to seconds\n",
    "df.index = (df.index - df.index[0]).total_seconds()\n",
    "\n",
    "# save file\n",
    "df.to_csv('meteo.txt', sep=' ', header=False, float_format='%0.4f', quoting=csv.QUOTE_NONE)"
   ]
  },
  {
   "cell_type": "code",
   "execution_count": null,
   "metadata": {},
   "outputs": [],
   "source": []
  }
 ],
 "metadata": {
  "kernelspec": {
   "display_name": "Python 3",
   "language": "python",
   "name": "python3"
  },
  "language_info": {
   "codemirror_mode": {
    "name": "ipython",
    "version": 3
   },
   "file_extension": ".py",
   "mimetype": "text/x-python",
   "name": "python",
   "nbconvert_exporter": "python",
   "pygments_lexer": "ipython3",
   "version": "3.7.7"
  }
 },
 "nbformat": 4,
 "nbformat_minor": 4
}
