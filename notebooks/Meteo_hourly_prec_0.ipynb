{
 "cells": [
  {
   "cell_type": "code",
   "execution_count": 2,
   "metadata": {},
   "outputs": [],
   "source": [
    "'''\n",
    "Script to import hourly weather data from KNMI\n",
    "\n",
    "Caroline Hallin, 2020-05-14\n",
    "'''\n",
    "\n",
    "import csv\n",
    "from knmy import knmy\n",
    "import numpy as np"
   ]
  },
  {
   "cell_type": "code",
   "execution_count": 3,
   "metadata": {},
   "outputs": [
    {
     "name": "stdout",
     "output_type": "stream",
     "text": [
      "                        name  latitude  longitude  altitude\n",
      "number                                                     \n",
      "391                    ARCEN    51.498      6.197      19.5\n",
      "370                EINDHOVEN    51.451      5.377      22.6\n",
      "331                   THOLEN    51.480      4.193       0.0\n",
      "315                HANSWEERT    51.447      3.998       0.0\n",
      "324               STAVENISSE    51.596      4.006       0.0\n",
      "375                   VOLKEL    51.659      5.707      22.0\n",
      "380               MAASTRICHT    50.906      5.762     114.3\n",
      "240                 SCHIPHOL    52.318      4.790      -3.3\n",
      "286             NIEUW BEERTA    53.196      7.150      -0.2\n",
      "310               VLISSINGEN    51.442      3.596       8.0\n",
      "283                   HUPSEL    52.069      6.657      29.1\n",
      "280                    EELDE    53.125      6.585       5.2\n",
      "273                MARKNESSE    52.703      5.888      -3.3\n",
      "323           WILHELMINADORP    51.527      3.884       1.4\n",
      "249                 BERKHOUT    52.644      4.979      -2.4\n",
      "377                      ELL    51.198      5.763      30.0\n",
      "316                   SCHAAR    51.657      3.694       0.0\n",
      "313         VLAKTE V.D. RAAN    51.505      3.242       0.0\n",
      "277               LAUWERSOOG    53.413      6.200       2.9\n",
      "348                   CABAUW    51.970      4.926      -0.7\n",
      "308                  CADZAND    51.381      3.379       0.0\n",
      "319                WESTDORPE    51.226      3.861       1.7\n",
      "215              VOORSCHOTEN    52.141      4.437      -1.1\n",
      "278                    HEINO    52.435      6.259       3.6\n",
      "285               HUIBERTGAT    53.575      6.399       0.0\n",
      "343          R'DAM-GEULHAVEN    51.893      4.313       3.5\n",
      "225                 IJMUIDEN    52.463      4.555       4.4\n",
      "330         HOEK VAN HOLLAND    51.992      4.122      11.9\n",
      "267                 STAVOREN    52.898      5.384      -1.3\n",
      "269                 LELYSTAD    52.458      5.520      -3.7\n",
      "344                ROTTERDAM    51.962      4.447      -4.3\n",
      "275                   DEELEN    52.056      5.873      48.2\n",
      "235                  DE KOOY    52.928      4.781       1.2\n",
      "257             WIJK AAN ZEE    52.506      4.603       8.5\n",
      "290                  TWENTHE    52.274      6.891      34.8\n",
      "350              GILZE-RIJEN    51.566      4.936      14.9\n",
      "251     HOORN (TERSCHELLING)    53.392      5.346       0.7\n",
      "210               VALKENBURG    52.171      4.430      -0.2\n",
      "248                 WIJDENES    52.634      5.174       0.8\n",
      "279                HOOGEVEEN    52.750      6.574      15.8\n",
      "258              HOUTRIBDIJK    52.649      5.401       7.3\n",
      "356                HERWIJNEN    51.859      5.146       0.7\n",
      "209                   IJMOND    52.465      4.518       0.0\n",
      "265              SOESTERBERG    52.130      5.274      13.9\n",
      "312            OOSTERSCHELDE    51.768      3.622       0.0\n",
      "340              WOENSDRECHT    51.449      4.342      19.2\n",
      "260                  DE BILT    52.100      5.180       1.9\n",
      "270               LEEUWARDEN    53.224      5.752       1.2\n",
      "311               HOOFDPLAAT    51.379      3.672       0.0\n",
      "242                 VLIELAND    53.241      4.921      10.8\n"
     ]
    },
    {
     "name": "stderr",
     "output_type": "stream",
     "text": [
      "C:\\ProgramData\\Anaconda3\\lib\\site-packages\\ipykernel_launcher.py:3: DtypeWarning: Columns (0,1,2,3) have mixed types.Specify dtype option on import or set low_memory=False.\n",
      "  This is separate from the ipykernel package so we can avoid doing imports until\n"
     ]
    }
   ],
   "source": [
    "#Check which stations are available\n",
    "disclaimer, stations, variables, data = knmy.get_hourly_data(start=2007070101, end=2008063024,\n",
    "                                                             inseason=False, variables=['T',], parse=True)\n",
    "print(stations)"
   ]
  },
  {
   "cell_type": "code",
   "execution_count": 4,
   "metadata": {},
   "outputs": [
    {
     "name": "stdout",
     "output_type": "stream",
     "text": [
      "Variable(Index=6, Abbreviation='T', Description='Temperatuur (in 0.1 graden Celsius) op 1.50 m hoogte tijdens de waarneming')\n",
      "Variable(Index=10, Abbreviation='Q', Description='Globale straling (in J/cm2) per uurvak')\n",
      "Variable(Index=12, Abbreviation='RH', Description='Uursom van de neerslag (in 0.1 mm) (-1 voor <0.05 mm)')\n",
      "Variable(Index=13, Abbreviation='P', Description='Luchtdruk (in 0.1 hPa) herleid naar zeeniveau, tijdens de waarneming')\n",
      "Variable(Index=16, Abbreviation='U', Description='Relatieve vochtigheid (in procenten) op 1.50 m hoogte tijdens de waarneming')\n"
     ]
    }
   ],
   "source": [
    "# retrieve hourly data and check info on variables\n",
    "stat=330 # station number, example 330 (Hoek van Holland)\n",
    "disclaimer, stations, variables, data = knmy.get_hourly_data(stations=[stat], start=2007070101, end=2008063024,\n",
    "                                                             inseason=False, variables=['ALL'], parse=True)\n",
    "\n",
    "print(variables[6])\n",
    "print(variables[10])\n",
    "print(variables[12])\n",
    "print(variables[13])\n",
    "print(variables[16])"
   ]
  },
  {
   "cell_type": "code",
   "execution_count": 5,
   "metadata": {},
   "outputs": [
    {
     "name": "stdout",
     "output_type": "stream",
     "text": [
      "        T  Q  RH      P   U\n",
      "1     164  0  43  10095  97\n",
      "2     161  0   1  10090  96\n",
      "3     160  0  11  10081  96\n",
      "4     164  0   9  10074  97\n",
      "5     169  4   1  10069  96\n",
      "...   ... ..  ..    ...  ..\n",
      "8780  148  5   0  10214  75\n",
      "8781  136  0   0  10213  83\n",
      "8782  125  0   0  10211  88\n",
      "8783  114  0   0  10210  90\n",
      "8784  115  0   0  10206  90\n",
      "\n",
      "[8784 rows x 5 columns]\n",
      "T     object\n",
      "Q     object\n",
      "RH    object\n",
      "P     object\n",
      "U     object\n",
      "dtype: object\n",
      "T     float64\n",
      "Q     float64\n",
      "RH    float64\n",
      "P     float64\n",
      "U     float64\n",
      "dtype: object\n"
     ]
    }
   ],
   "source": [
    "# retrieve hourly data of selected variables\n",
    "disclaimer, stations, variables, data = knmy.get_hourly_data(stations=[stat], start=2007070101, end=2008063024,\n",
    "                                                             inseason=False, variables=['T','Q','RH','P','U'], parse=True)\n",
    "\n",
    "# drop station, date, and hour column\n",
    "data = data.drop(['STN','YYYYMMDD','HH'],axis=1)\n",
    "\n",
    "#drop index 0, row with headers\n",
    "data= data.drop([0])\n",
    "\n",
    "print(data)\n",
    "print(data.dtypes)\n",
    "\n",
    "#convert format from object to float\n",
    "data=data.astype(float)\n",
    "print(data.dtypes)\n"
   ]
  },
  {
   "cell_type": "code",
   "execution_count": 6,
   "metadata": {},
   "outputs": [
    {
     "name": "stdout",
     "output_type": "stream",
     "text": [
      "         T     Q   RH       P     U\n",
      "1     16.4  0.00  0.0  1009.5  97.0\n",
      "2     16.1  0.00  0.0  1009.0  96.0\n",
      "3     16.0  0.00  0.0  1008.1  96.0\n",
      "4     16.4  0.00  0.0  1007.4  97.0\n",
      "5     16.9  0.96  0.0  1006.9  96.0\n",
      "...    ...   ...  ...     ...   ...\n",
      "8780  14.8  1.20  0.0  1021.4  75.0\n",
      "8781  13.6  0.00  0.0  1021.3  83.0\n",
      "8782  12.5  0.00  0.0  1021.1  88.0\n",
      "8783  11.4  0.00  0.0  1021.0  90.0\n",
      "8784  11.5  0.00  0.0  1020.6  90.0\n",
      "\n",
      "[8784 rows x 5 columns]\n"
     ]
    }
   ],
   "source": [
    "# Convert units from KNMI convention to units in the Penman eq (Shuttleworth, 1993) \n",
    "# T: 0.1 degrees Celsius -> degrees Celsius\n",
    "# Q : J/cm2/h -> MJ/m2/d\n",
    "# RH : 0.1 mm /h -> mm/h\n",
    "# P : 0.1 hPa -> kPa\n",
    "# U: % (no conversion needed)\n",
    "\n",
    "data_conv = data.apply(lambda x: x * np.asarray([1e-1, 24e-2, 0*1e-1, 1e-1, 1]), axis=1)\n",
    "\n",
    "print(data_conv)"
   ]
  },
  {
   "cell_type": "code",
   "execution_count": 7,
   "metadata": {},
   "outputs": [
    {
     "name": "stdout",
     "output_type": "stream",
     "text": [
      "Int64Index([       0,     3600,     7200,    10800,    14400,    18000,\n",
      "               21600,    25200,    28800,    32400,\n",
      "            ...\n",
      "            31586400, 31590000, 31593600, 31597200, 31600800, 31604400,\n",
      "            31608000, 31611600, 31615200, 31618800],\n",
      "           dtype='int64', length=8784)\n",
      "             T     Q   RH       P     U\n",
      "0         16.4  0.00  0.0  1009.5  97.0\n",
      "3600      16.1  0.00  0.0  1009.0  96.0\n",
      "7200      16.0  0.00  0.0  1008.1  96.0\n",
      "10800     16.4  0.00  0.0  1007.4  97.0\n",
      "14400     16.9  0.96  0.0  1006.9  96.0\n",
      "...        ...   ...  ...     ...   ...\n",
      "31604400  14.8  1.20  0.0  1021.4  75.0\n",
      "31608000  13.6  0.00  0.0  1021.3  83.0\n",
      "31611600  12.5  0.00  0.0  1021.1  88.0\n",
      "31615200  11.4  0.00  0.0  1021.0  90.0\n",
      "31618800  11.5  0.00  0.0  1020.6  90.0\n",
      "\n",
      "[8784 rows x 5 columns]\n"
     ]
    }
   ],
   "source": [
    "# convert index from index to seconds\n",
    "data_conv.index = data_conv.index*3600-3600\n",
    "\n",
    "print(data_conv.index)\n",
    "\n",
    "print(data_conv)"
   ]
  },
  {
   "cell_type": "code",
   "execution_count": 8,
   "metadata": {},
   "outputs": [],
   "source": [
    "#Set negative values (precipitation) to zero\n",
    "data_conv[data_conv < 0] = 0\n"
   ]
  },
  {
   "cell_type": "code",
   "execution_count": 9,
   "metadata": {},
   "outputs": [],
   "source": [
    "# save file\n",
    "\n",
    "data_conv.to_csv('meteo.txt',sep=' ', header=False, float_format='%0.4f', quoting=csv.QUOTE_NONE)"
   ]
  },
  {
   "cell_type": "code",
   "execution_count": null,
   "metadata": {},
   "outputs": [],
   "source": []
  }
 ],
 "metadata": {
  "kernelspec": {
   "display_name": "Python 3",
   "language": "python",
   "name": "python3"
  },
  "language_info": {
   "codemirror_mode": {
    "name": "ipython",
    "version": 3
   },
   "file_extension": ".py",
   "mimetype": "text/x-python",
   "name": "python",
   "nbconvert_exporter": "python",
   "pygments_lexer": "ipython3",
   "version": "3.7.7"
  }
 },
 "nbformat": 4,
 "nbformat_minor": 4
}
